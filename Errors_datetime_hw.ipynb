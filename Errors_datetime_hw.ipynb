{
 "cells": [
  {
   "cell_type": "markdown",
   "metadata": {},
   "source": [
    "# Задание 1\n",
    "Напишите функцию date_range, которая возвращает список дней между датами start_date и end_date. Даты должны вводиться в формате YYYY-MM-DD.\n"
   ]
  },
  {
   "cell_type": "code",
   "execution_count": 4,
   "metadata": {},
   "outputs": [
    {
     "name": "stdout",
     "output_type": "stream",
     "text": [
      "Введите дату начала в формате YYYY-MM-DD: 2008-10-11\n",
      "Введите дату окончания в формате YYYY-MM-DD: 2008-10-15\n",
      "2008-10-11\n",
      "2008-10-12\n",
      "2008-10-13\n",
      "2008-10-14\n",
      "2008-10-15\n"
     ]
    }
   ],
   "source": [
    "from datetime import datetime, timedelta \n",
    "\n",
    "def date_range():\n",
    "    start_date = input(\"Введите дату начала в формате YYYY-MM-DD: \")\n",
    "    end_date = input(\"Введите дату окончания в формате YYYY-MM-DD: \")\n",
    "    \n",
    "    start_date_dt = datetime.strptime(start_date, '%Y-%m-%d')\n",
    "    end_date_dt = datetime.strptime(end_date, '%Y-%m-%d')\n",
    "    \n",
    "    current_date_dt = start_date_dt\n",
    "    while current_date_dt <= end_date_dt:\n",
    "        print(current_date_dt.strftime('%Y-%m-%d'))\n",
    "        current_date_dt += timedelta(days=1)\n",
    "    \n",
    "date_range()"
   ]
  },
  {
   "cell_type": "markdown",
   "metadata": {},
   "source": [
    "# Задание 2\n",
    "Дополните функцию из первого задания проверкой на корректность дат. В случае неверного формата или если start_date > end_date должен возвращаться пустой список.\n"
   ]
  },
  {
   "cell_type": "code",
   "execution_count": 5,
   "metadata": {},
   "outputs": [
    {
     "name": "stdout",
     "output_type": "stream",
     "text": [
      "Введите дату начала в формате YYYY-MM-DD: 2008-10-10\n",
      "Введите дату окончания в формате YYYY-MM-DD: 2000-10-10\n",
      "[]\n"
     ]
    }
   ],
   "source": [
    "from datetime import datetime, timedelta \n",
    "\n",
    "def valid_date_range():\n",
    "    start_date = input(\"Введите дату начала в формате YYYY-MM-DD: \")\n",
    "    end_date = input(\"Введите дату окончания в формате YYYY-MM-DD: \")\n",
    "    \n",
    "    start_date_dt = datetime.strptime(start_date, '%Y-%m-%d')\n",
    "    end_date_dt = datetime.strptime(end_date, '%Y-%m-%d')\n",
    "    \n",
    "    if start_date_dt > end_date_dt:\n",
    "        er = []\n",
    "        print(er)\n",
    "        \n",
    "    else:\n",
    "        current_date_dt = start_date_dt\n",
    "        while current_date_dt <= end_date_dt:\n",
    "            print(current_date_dt.strftime('%Y-%m-%d'))\n",
    "            current_date_dt += timedelta(days=1) \n",
    "        \n",
    "\n",
    "valid_date_range()   "
   ]
  },
  {
   "cell_type": "markdown",
   "metadata": {},
   "source": [
    "# Задание 3\n",
    "Дан поток дат в формате YYYY-MM-DD, в которых встречаются некорректные значения:\n",
    "stream = [‘2018-04-02’, ‘2018-02-29’, ‘2018-19-02’]\n",
    "\n",
    "Напишите функцию, которая проверяет эти даты на корректность. Т. е. для каждой даты возвращает True (дата корректна) или False (некорректная дата)."
   ]
  },
  {
   "cell_type": "code",
   "execution_count": 20,
   "metadata": {},
   "outputs": [
    {
     "name": "stdout",
     "output_type": "stream",
     "text": [
      "2018-04-02  TRUE \n",
      "2018-02-29  FALSE \n",
      "2018-19-02  FALSE \n"
     ]
    }
   ],
   "source": [
    "import time\n",
    "from datetime import datetime\n",
    "from datetime import date\n",
    "\n",
    "stream = ['2018-04-02', '2018-02-29', '2018-19-02']\n",
    "\n",
    "for date in stream:\n",
    "    try:\n",
    "        date_dt = datetime.strptime(date, '%Y-%m-%d')\n",
    "        print(date, ' TRUE ')\n",
    "    except:\n",
    "        print(date, ' FALSE ')"
   ]
  },
  {
   "cell_type": "code",
   "execution_count": null,
   "metadata": {},
   "outputs": [],
   "source": []
  }
 ],
 "metadata": {
  "kernelspec": {
   "display_name": "Python 3",
   "language": "python",
   "name": "python3"
  },
  "language_info": {
   "codemirror_mode": {
    "name": "ipython",
    "version": 3
   },
   "file_extension": ".py",
   "mimetype": "text/x-python",
   "name": "python",
   "nbconvert_exporter": "python",
   "pygments_lexer": "ipython3",
   "version": "3.7.4"
  }
 },
 "nbformat": 4,
 "nbformat_minor": 2
}
